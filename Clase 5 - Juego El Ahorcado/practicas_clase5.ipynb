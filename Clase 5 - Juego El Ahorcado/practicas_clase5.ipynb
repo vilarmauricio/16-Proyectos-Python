{
 "cells": [
  {
   "cell_type": "code",
   "execution_count": 2,
   "metadata": {},
   "outputs": [
    {
     "name": "stdout",
     "output_type": "stream",
     "text": [
      "False\n"
     ]
    }
   ],
   "source": [
    "# Funciones dinamicas\n",
    "listaNumeros = [1,78,455,-2,5,68,45]\n",
    "\n",
    "def todos_positivos(lista):\n",
    "    for elemento in lista:\n",
    "        if elemento < 0:\n",
    "            return False\n",
    "    return True\n",
    "\n",
    "print(todos_positivos(listaNumeros))\n"
   ]
  },
  {
   "cell_type": "code",
   "execution_count": 3,
   "metadata": {},
   "outputs": [
    {
     "name": "stdout",
     "output_type": "stream",
     "text": [
      "1146\n"
     ]
    }
   ],
   "source": [
    "listaNumeros = [-80, 45,3000,200,900,1,2000, -45]\n",
    "\n",
    "def suma_menores(lista):\n",
    "    total = 0\n",
    "    for elemento in lista:\n",
    "        if elemento in range(0,1000):\n",
    "            total += elemento\n",
    "    return total\n",
    "\n",
    "print(suma_menores(listaNumeros))"
   ]
  },
  {
   "cell_type": "code",
   "execution_count": 4,
   "metadata": {},
   "outputs": [
    {
     "name": "stdout",
     "output_type": "stream",
     "text": [
      "5\n"
     ]
    }
   ],
   "source": [
    "listaNumeros = [-80, 45,3000,200,900,1,2000, -45]\n",
    "\n",
    "def cant_numeros_pares(lista):\n",
    "    total = 0\n",
    "    for elemento in lista:\n",
    "        if elemento % 2 == 0:\n",
    "            total += 1\n",
    "    return total\n",
    "\n",
    "print(cant_numeros_pares(listaNumeros))"
   ]
  },
  {
   "cell_type": "code",
   "execution_count": 4,
   "metadata": {},
   "outputs": [
    {
     "name": "stdout",
     "output_type": "stream",
     "text": [
      "9\n"
     ]
    }
   ],
   "source": [
    "#Practica 1\n",
    "lista_numeros = [9, 4, 7]\n",
    "\n",
    "def devolver_distinto(lista):\n",
    "    suma = sum(lista)\n",
    "    mayor = max(lista)\n",
    "    menor = min(lista)\n",
    "    if suma > 15: return mayor\n",
    "    elif suma < 10: return menor\n",
    "    else: \n",
    "        for numero in lista:\n",
    "            if (numero != mayor) and (numero != menor):\n",
    "                return numero\n",
    "\n",
    "print(devolver_distinto(lista_numeros))"
   ]
  },
  {
   "cell_type": "code",
   "execution_count": 15,
   "metadata": {},
   "outputs": [
    {
     "name": "stdout",
     "output_type": "stream",
     "text": [
      "['a', 'g', 'i', 'r', 't', 'u']\n"
     ]
    }
   ],
   "source": [
    "#Practica 2\n",
    "palabra = 'guitarra'\n",
    "\n",
    "def devolver_letras_unicas(palabra):\n",
    "    unicas =[]\n",
    "    for letra in palabra:\n",
    "        if letra not in unicas:\n",
    "            unicas.append(letra)\n",
    "    unicas.sort()\n",
    "\n",
    "    return unicas\n",
    "\n",
    "\n",
    "print(devolver_letras_unicas(palabra))"
   ]
  },
  {
   "cell_type": "code",
   "execution_count": 26,
   "metadata": {},
   "outputs": [
    {
     "name": "stdout",
     "output_type": "stream",
     "text": [
      "False\n",
      "False\n",
      "False\n"
     ]
    }
   ],
   "source": [
    "#Practica 3\n",
    "lista_numeros1 = (1,2,3,0,0,4)\n",
    "lista_numeros2 = [1,0,3,0,5,0]\n",
    "lista_numeros3 = [1,0,5,6,2,0]\n",
    "\n",
    "def ceros_consecutivos(*args):\n",
    "    for indice in range(0,len(args)-1):\n",
    "        if args[indice] == 0 and args[indice + 1] == 0:\n",
    "            return True\n",
    "    \n",
    "    return False\n",
    "\n",
    "print(ceros_consecutivos(1,2,3,1,0,4))\n",
    "print(ceros_consecutivos(0,1,3,0,5,0))\n",
    "print(ceros_consecutivos(1,0,5,6,8,0))            \n",
    "\n"
   ]
  }
 ],
 "metadata": {
  "kernelspec": {
   "display_name": "Python 3.9.5 64-bit",
   "language": "python",
   "name": "python3"
  },
  "language_info": {
   "codemirror_mode": {
    "name": "ipython",
    "version": 3
   },
   "file_extension": ".py",
   "mimetype": "text/x-python",
   "name": "python",
   "nbconvert_exporter": "python",
   "pygments_lexer": "ipython3",
   "version": "3.9.5"
  },
  "orig_nbformat": 4,
  "vscode": {
   "interpreter": {
    "hash": "09ae61c9c575b6ce542c2a658a8f4f3546e2ab010aea658e85c28f29deb099ac"
   }
  }
 },
 "nbformat": 4,
 "nbformat_minor": 2
}
