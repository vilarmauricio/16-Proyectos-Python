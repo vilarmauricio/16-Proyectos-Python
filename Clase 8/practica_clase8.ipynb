{
 "cells": [
  {
   "cell_type": "code",
   "execution_count": 2,
   "metadata": {},
   "outputs": [
    {
     "name": "stdout",
     "output_type": "stream",
     "text": [
      "Error inesperado\n"
     ]
    }
   ],
   "source": [
    "#Ejercicio 4.2\n",
    "def sumar(n1, n2):\n",
    "    suma = 0\n",
    "    try:\n",
    "        suma = n1+ n2\n",
    "    except:\n",
    "        print('Error inesperado')\n",
    "    else:\n",
    "        print(suma)\n",
    "\n",
    "sumar(5,'h')"
   ]
  },
  {
   "cell_type": "code",
   "execution_count": 7,
   "metadata": {},
   "outputs": [
    {
     "name": "stdout",
     "output_type": "stream",
     "text": [
      "0.0\n"
     ]
    }
   ],
   "source": [
    "#Ejercicio 4.3\n",
    "def cociente(n1, n2):\n",
    "    cocient  = 0\n",
    "    try:\n",
    "        cocient = n1/n2\n",
    "\n",
    "    except TypeError:\n",
    "        print('Los argumentos a ingresar deben ser numeros')\n",
    "\n",
    "    except ZeroDivisionError:\n",
    "        print('El segundo argumento no debe ser cero')\n",
    "\n",
    "    else:\n",
    "        print(cocient)\n",
    "\n",
    "cociente(0,2)"
   ]
  },
  {
   "cell_type": "code",
   "execution_count": 19,
   "metadata": {},
   "outputs": [
    {
     "name": "stdout",
     "output_type": "stream",
     "text": [
      "Abierto exitosamente\n",
      "hola mundo\n",
      "Finalizando ejecucion\n"
     ]
    }
   ],
   "source": [
    "#Ejercicio 4.4\n",
    "def abrir_archivo(archivo):\n",
    "\n",
    "    try:\n",
    "        file = open(archivo)\n",
    "    except FileNotFoundError:\n",
    "        print('El archivo no fue encontrado')\n",
    "        finalizacion()\n",
    "    except:\n",
    "        print('Error desconocido')\n",
    "        finalizacion()\n",
    "    else:\n",
    "        print('Abierto exitosamente')\n",
    "        print(file.read())\n",
    "        finalizacion()\n",
    "        \n",
    "        file.close()\n",
    "\n",
    "def finalizacion():\n",
    "    print('Finalizando ejecucion')\n",
    "\n",
    "abrir_archivo('prueba.txt')"
   ]
  },
  {
   "cell_type": "code",
   "execution_count": 51,
   "metadata": {},
   "outputs": [
    {
     "name": "stdout",
     "output_type": "stream",
     "text": [
      "1\n",
      "2\n",
      "1\n",
      "2\n",
      "3\n",
      "4 \n",
      "\n",
      "3\n",
      "4\n"
     ]
    }
   ],
   "source": [
    "#Ejercicio 8.2 Generadores\n",
    "def secuencia_infinita():\n",
    "    num = 1\n",
    "    while True:\n",
    "        yield num\n",
    "        num +=1\n",
    "\n",
    "def secuencia_infinita_2():\n",
    "    num = 1\n",
    "    while True:\n",
    "        yield num\n",
    "        num +=1\n",
    "\n",
    "generador1 = secuencia_infinita()\n",
    "print(next(generador1)) \n",
    "print(next(generador1))\n",
    "generador = secuencia_infinita_2()\n",
    "print(next(generador)) \n",
    "print(next(generador))\n",
    "\n",
    "print(next(generador1)) \n",
    "print(next(generador1),'\\n')\n",
    "print(next(generador)) \n",
    "print(next(generador))\n"
   ]
  },
  {
   "cell_type": "code",
   "execution_count": 27,
   "metadata": {},
   "outputs": [
    {
     "name": "stdout",
     "output_type": "stream",
     "text": [
      "7\n",
      "14\n"
     ]
    }
   ],
   "source": [
    "#Ejeercicio 8.3\n",
    "def multiplos_de_7():\n",
    "    multiplicador = 1\n",
    "    while True:\n",
    "        yield 7 * multiplicador\n",
    "        multiplicador += 1\n",
    "\n",
    "generardorMult7 = multiplos_de_7()\n",
    "\n",
    "print(next(generardorMult7))\n",
    "print(next(generardorMult7))"
   ]
  },
  {
   "cell_type": "code",
   "execution_count": 48,
   "metadata": {},
   "outputs": [
    {
     "name": "stdout",
     "output_type": "stream",
     "text": [
      "Te quedan 3 vidas\n",
      "Te quedan 2 vidas\n",
      "Te quedan 1 vidas\n",
      "Te quedan 2 vidas\n",
      "Te quedan 1 vidas\n",
      "Game Over\n"
     ]
    }
   ],
   "source": [
    "def vidas_restantes(vidas = 3):\n",
    "    \n",
    "    while vidas > 0:\n",
    "        yield print(f'Te quedan {vidas} vidas')\n",
    "        vidas -=1\n",
    "    yield print('Game Over')\n",
    "\n",
    "generador_vidas = vidas_restantes()\n",
    "next(generador_vidas)\n",
    "next(generador_vidas)\n",
    "next(generador_vidas)\n",
    "generador_vidas = vidas_restantes(2)\n",
    "next(generador_vidas)\n",
    "next(generador_vidas)\n",
    "next(generador_vidas)"
   ]
  }
 ],
 "metadata": {
  "kernelspec": {
   "display_name": "Python 3.9.5 64-bit",
   "language": "python",
   "name": "python3"
  },
  "language_info": {
   "codemirror_mode": {
    "name": "ipython",
    "version": 3
   },
   "file_extension": ".py",
   "mimetype": "text/x-python",
   "name": "python",
   "nbconvert_exporter": "python",
   "pygments_lexer": "ipython3",
   "version": "3.9.5"
  },
  "orig_nbformat": 4,
  "vscode": {
   "interpreter": {
    "hash": "09ae61c9c575b6ce542c2a658a8f4f3546e2ab010aea658e85c28f29deb099ac"
   }
  }
 },
 "nbformat": 4,
 "nbformat_minor": 2
}
