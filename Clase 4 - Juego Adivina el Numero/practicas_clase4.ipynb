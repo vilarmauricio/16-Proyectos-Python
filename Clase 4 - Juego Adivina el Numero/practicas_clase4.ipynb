{
 "cells": [
  {
   "cell_type": "code",
   "execution_count": 1,
   "metadata": {},
   "outputs": [
    {
     "name": "stdout",
     "output_type": "stream",
     "text": [
      "[1, 4, 9, 25, 36, 49, 90.25]\n"
     ]
    }
   ],
   "source": [
    "#\n",
    "lista_cuadrados = [ cuadrado**2 for cuadrado in [1, 2, 3, 5, 6, 7, 9.5]]\n",
    "print(lista_cuadrados)"
   ]
  },
  {
   "cell_type": "code",
   "execution_count": 2,
   "metadata": {},
   "outputs": [
    {
     "name": "stdout",
     "output_type": "stream",
     "text": [
      "[2, 4, 6, 8]\n"
     ]
    }
   ],
   "source": [
    "lista_pares = [n for n in [1,2,3,4,5,6,7,8,9] if n % 2 == 0]\n",
    "print(lista_pares)"
   ]
  },
  {
   "cell_type": "code",
   "execution_count": 3,
   "metadata": {},
   "outputs": [
    {
     "name": "stdout",
     "output_type": "stream",
     "text": [
      "[0.0, 100.0, 135.0]\n"
     ]
    }
   ],
   "source": [
    "grados_fahrenheint = [32, 212, 275]\n",
    "grados_celsius = [(grados-32)*(5/9) for grados in grados_fahrenheint]\n",
    "print(grados_celsius)"
   ]
  }
 ],
 "metadata": {
  "kernelspec": {
   "display_name": "Python 3.9.5 64-bit",
   "language": "python",
   "name": "python3"
  },
  "language_info": {
   "codemirror_mode": {
    "name": "ipython",
    "version": 3
   },
   "file_extension": ".py",
   "mimetype": "text/x-python",
   "name": "python",
   "nbconvert_exporter": "python",
   "pygments_lexer": "ipython3",
   "version": "3.9.5"
  },
  "orig_nbformat": 4,
  "vscode": {
   "interpreter": {
    "hash": "09ae61c9c575b6ce542c2a658a8f4f3546e2ab010aea658e85c28f29deb099ac"
   }
  }
 },
 "nbformat": 4,
 "nbformat_minor": 2
}
