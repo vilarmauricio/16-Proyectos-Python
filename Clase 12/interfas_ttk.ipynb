{
 "cells": [
  {
   "cell_type": "code",
   "execution_count": 2,
   "metadata": {},
   "outputs": [],
   "source": [
    "from tkinter import *\n",
    "from tkinter import ttk\n",
    "root = Tk()\n",
    "frm = ttk.Frame(root, padding=10)\n",
    "frm.grid()\n",
    "ttk.Label(frm, text=\"Hello World!\").grid(column=0, row=0)\n",
    "ttk.Button(frm, text=\"Quit\", command=root.destroy).grid(column=1, row=0)\n",
    "root.mainloop()"
   ]
  },
  {
   "cell_type": "code",
   "execution_count": 15,
   "metadata": {},
   "outputs": [],
   "source": [
    "import tkinter\n",
    "\n",
    "l1 = tkinter.Label(text=\"Test\", fg=\"black\", bg=\"white\")\n",
    "l2 = tkinter.Label(text=\"Test\", fg=\"black\", bg=\"white\")\n",
    "b1 = tkinter.Button(text= 'Boton 1',  fg=\"black\", bg=\"white\")\n",
    "b2 = tkinter.Button(text= 'Boton 2')\n",
    "\n",
    "l1.grid(column= 0, row=0)\n",
    "b1.grid(column=1, row= 0)\n",
    "l2.grid(column= 0, row= 1)\n",
    "b2.grid(column=1, row= 1)\n",
    "\n",
    "tkinter.mainloop()"
   ]
  },
  {
   "cell_type": "code",
   "execution_count": 14,
   "metadata": {},
   "outputs": [],
   "source": [
    "from tkinter import *\n",
    "from tkinter.ttk import *\n",
    "\n",
    "style = ttk.Style()\n",
    "style.configure(\"BW.TLabel\", foreground=\"black\", background=\"white\")\n",
    "\n",
    "l1 = ttk.Label(text=\"Test\", style=\"BW.TLabel\")\n",
    "l2 = ttk.Label(text=\"Test\", style=\"BW.TLabel\")\n",
    "b1 = ttk.Button(text= 'Boton 1', style= 'BW.TLabel')\n",
    "b2 = ttk.Button(text= 'Boton 2')\n",
    "\n",
    "l1.grid(column= 0, row=0)\n",
    "b1.grid(column=1, row= 0)\n",
    "l2.grid(column= 0, row= 1)\n",
    "b2.grid(column=1, row= 1)\n",
    "\n",
    "tkinter.mainloop()"
   ]
  }
 ],
 "metadata": {
  "kernelspec": {
   "display_name": "Python 3.9.5 64-bit",
   "language": "python",
   "name": "python3"
  },
  "language_info": {
   "codemirror_mode": {
    "name": "ipython",
    "version": 3
   },
   "file_extension": ".py",
   "mimetype": "text/x-python",
   "name": "python",
   "nbconvert_exporter": "python",
   "pygments_lexer": "ipython3",
   "version": "3.9.5"
  },
  "orig_nbformat": 4,
  "vscode": {
   "interpreter": {
    "hash": "09ae61c9c575b6ce542c2a658a8f4f3546e2ab010aea658e85c28f29deb099ac"
   }
  }
 },
 "nbformat": 4,
 "nbformat_minor": 2
}
