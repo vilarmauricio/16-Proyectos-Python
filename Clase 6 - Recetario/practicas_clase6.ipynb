{
 "cells": [
  {
   "cell_type": "code",
   "execution_count": 4,
   "metadata": {},
   "outputs": [
    {
     "name": "stdout",
     "output_type": "stream",
     "text": [
      "Soy la primera linea\n",
      "¡Vaya! ¡Yo soy la segunda!\n",
      "He quedado tercera\n"
     ]
    }
   ],
   "source": [
    "#Practica 2.3\n",
    "archivo = open('Prueba.txt')\n",
    "print(archivo.read())\n",
    "archivo.close()"
   ]
  },
  {
   "cell_type": "code",
   "execution_count": 14,
   "metadata": {},
   "outputs": [
    {
     "name": "stdout",
     "output_type": "stream",
     "text": [
      "Soy la primera linea\n",
      "\n",
      "¡Vaya! ¡Yo soy la segunda!\n",
      "\n"
     ]
    }
   ],
   "source": [
    "#Practica 2.4\n",
    "archivo = open('Prueba.txt')\n",
    "print(archivo.readline())\n",
    "print(archivo.readline())\n",
    "archivo.close()"
   ]
  },
  {
   "cell_type": "code",
   "execution_count": 15,
   "metadata": {},
   "outputs": [
    {
     "name": "stdout",
     "output_type": "stream",
     "text": [
      "¡Vaya! ¡Yo soy la segunda!\n",
      "\n"
     ]
    }
   ],
   "source": [
    "#Practica 2.5\n",
    "archivo = open('Prueba.txt')\n",
    "archivo.readline()\n",
    "print(archivo.readline())\n",
    "archivo.close()"
   ]
  },
  {
   "cell_type": "code",
   "execution_count": 74,
   "metadata": {},
   "outputs": [
    {
     "name": "stdout",
     "output_type": "stream",
     "text": [
      "Estos son los consejos\n",
      "\n",
      "Nueva linea\n",
      "Nueva linealinea manual\n",
      "otra linea mas 1\n",
      "casa\n",
      "auto\n"
     ]
    }
   ],
   "source": [
    "#Practica Archivos y Funciones 1\n",
    "from pathlib import Path\n",
    "\n",
    "def abrir_leer(ruta, archivo):\n",
    "    mi_archivo = Path(ruta,archivo)\n",
    "    apertura = mi_archivo.open()\n",
    "    return apertura.read()\n",
    "\n",
    "ubicacion = Path('Europa')\n",
    "nombre_archivo = 'Consejos.txt'\n",
    "\n",
    "archivo_abierto = abrir_leer(ubicacion, nombre_archivo)\n",
    "print(archivo_abierto)\n",
    "#print(Path(ubicacion, nombre_archivo).open().read())\n"
   ]
  },
  {
   "cell_type": "code",
   "execution_count": 48,
   "metadata": {},
   "outputs": [
    {
     "name": "stdout",
     "output_type": "stream",
     "text": [
      "\n",
      "0\n"
     ]
    }
   ],
   "source": [
    "#Practica Archivos y Funciones 2\n",
    "from pathlib import PurePath\n",
    "\n",
    "\n",
    "def abrir_leer(ruta, archivo):\n",
    "    mi_archivo = Path(ruta, archivo).open()\n",
    "    return mi_archivo.read()\n",
    "\n",
    "def sobreescribir(ruta, archivo):\n",
    "    mi_archivo = Path(ruta, archivo).write_text('')\n",
    "    return mi_archivo\n",
    "\n",
    "ubicacion= Path('Europa')\n",
    "nombre_archivo = 'Prueba.txt'\n",
    "\n",
    "data = abrir_leer(ubicacion, nombre_archivo)\n",
    "print(data)\n",
    "data = sobreescribir(ubicacion, nombre_archivo)\n",
    "print(data)\n"
   ]
  },
  {
   "cell_type": "code",
   "execution_count": 73,
   "metadata": {},
   "outputs": [
    {
     "name": "stdout",
     "output_type": "stream",
     "text": [
      "Estos son los consejos\n",
      "\n",
      "Nueva linea\n",
      "Nueva linealinea manual\n",
      "otra linea mas 1\n",
      "casa\n",
      "Estos son los consejos\n",
      "\n",
      "Nueva linea\n",
      "Nueva linealinea manual\n",
      "otra linea mas 1\n",
      "casa\n",
      "auto\n"
     ]
    }
   ],
   "source": [
    "#Practica Archivos y Funciones 3\n",
    "def abrir_solo_lectura(ruta, archivo):\n",
    "    mi_archivo = open('./' + ruta +'/' + archivo, 'r')\n",
    "    return mi_archivo\n",
    "\n",
    "def abrir_escritura_ultima_linea(ruta, archivo):\n",
    "    mi_archivo = open('./' + ruta +'/' + archivo, 'a')\n",
    "    return mi_archivo\n",
    "\n",
    "\n",
    "ubicacion = 'Europa'\n",
    "nombre_archivo = 'Consejos.txt'\n",
    "\n",
    "archivo_abierto = abrir_solo_lectura(ubicacion, nombre_archivo)\n",
    "print(archivo_abierto.read())\n",
    "#archivo_abierto.close()\n",
    "archivo_abierto = abrir_escritura_ultima_linea(ubicacion, nombre_archivo)\n",
    "texto = '\\n' + input()\n",
    "archivo_abierto.write(texto)\n",
    "#archivo_abierto.close()\n",
    "archivo_abierto = abrir_solo_lectura(ubicacion, nombre_archivo)\n",
    "print(archivo_abierto.read())\n",
    "archivo_abierto.close()\n"
   ]
  },
  {
   "cell_type": "code",
   "execution_count": 77,
   "metadata": {},
   "outputs": [
    {
     "name": "stdout",
     "output_type": "stream",
     "text": [
      "Categorias:\n",
      "\t- Carnes\n"
     ]
    }
   ],
   "source": [
    "directorio = Path('Recetas')\n",
    "lista_categoria = [fichero.name for fichero in directorio.iterdir() if fichero.is_dir()]\n",
    "print('Categorias:')\n",
    "    #mostrar carpetas    \n",
    "for cat in lista_categoria:\n",
    "    print('\\t-',cat)"
   ]
  }
 ],
 "metadata": {
  "kernelspec": {
   "display_name": "Python 3.9.5 64-bit",
   "language": "python",
   "name": "python3"
  },
  "language_info": {
   "codemirror_mode": {
    "name": "ipython",
    "version": 3
   },
   "file_extension": ".py",
   "mimetype": "text/x-python",
   "name": "python",
   "nbconvert_exporter": "python",
   "pygments_lexer": "ipython3",
   "version": "3.9.5"
  },
  "orig_nbformat": 4,
  "vscode": {
   "interpreter": {
    "hash": "09ae61c9c575b6ce542c2a658a8f4f3546e2ab010aea658e85c28f29deb099ac"
   }
  }
 },
 "nbformat": 4,
 "nbformat_minor": 2
}
